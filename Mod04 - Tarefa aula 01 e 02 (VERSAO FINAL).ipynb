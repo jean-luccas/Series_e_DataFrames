{
 "cells": [
  {
   "cell_type": "markdown",
   "metadata": {},
   "source": [
    "# Tarefa 01\n",
    "\n",
    "- Leia os enunciados com atenção\n",
    "- Saiba que pode haver mais de uma resposta correta\n",
    "- Insira novas células de código sempre que achar necessário\n",
    "- Em caso de dúvidas, procure os tutores\n",
    "- Divirta-se :)\n",
    "\n",
    "#### 1)  crie uma série do pandas a partir de uma lista com os dados abaixo:\n",
    "\n",
    "Em um estudo sobre alteração na tempreatura global, A NASA disponibiliza dados de diferenças de de temperatura média da superfície terrestre relativos às médias de temperatura entre 1951 e 1980. Os dados originais podem ser vistos no site da NASA/GISS, e estão dispostos a cada década na tabela abaixo.\n",
    "\n",
    "|ano|anomalia termica|\n",
    "|:-:|:----:|\n",
    "| 1900 | -0.08 |\n",
    "| 1920 | -0.27 |\n",
    "| 1940 | 0.12 |\n",
    "| 1960 | -0.03 |\n",
    "| 1980 | 0.26 |\n",
    "| 2000 | 0.40 |\n",
    "| 2020 | 1.02 |\n",
    "\n",
    "Crie uma séries do Pandas a partir de uma lista com esses dados."
   ]
  },
  {
   "cell_type": "code",
   "execution_count": 3,
   "metadata": {},
   "outputs": [
    {
     "data": {
      "text/plain": [
       "0   -0.08\n",
       "1   -0.27\n",
       "2    0.12\n",
       "3   -0.03\n",
       "4    0.26\n",
       "5    0.40\n",
       "6    1.02\n",
       "dtype: float64"
      ]
     },
     "execution_count": 3,
     "metadata": {},
     "output_type": "execute_result"
    }
   ],
   "source": [
    "import pandas as pd\n",
    "import numpy as np\n",
    "\n",
    "# Criando as listas com os dados fornecidos:\n",
    "ano = [1900, 1920, 1940, 1960, 1980, 2000, 2020]\n",
    "anomalia_termica = [-0.08, -0.27, 0.12, -0.03, 0.26, 0.40, 1.02]\n",
    "\n",
    "# Gerando a Serie a partir das listas criadas:\n",
    "pd.Series(data=anomalia_termica)"
   ]
  },
  {
   "cell_type": "markdown",
   "metadata": {},
   "source": [
    "#### 2) Coloque os anos nos índices conforme a tabela."
   ]
  },
  {
   "cell_type": "code",
   "execution_count": 6,
   "metadata": {},
   "outputs": [
    {
     "name": "stdout",
     "output_type": "stream",
     "text": [
      "1900   -0.08\n",
      "1920   -0.27\n",
      "1940    0.12\n",
      "1960   -0.03\n",
      "1980    0.26\n",
      "2000    0.40\n",
      "2020    1.02\n",
      "dtype: float64\n"
     ]
    }
   ],
   "source": [
    "anomaliatermica_ano = pd.Series(data=anomalia_termica, index=ano)\n",
    "print(anomaliatermica_ano)"
   ]
  },
  {
   "cell_type": "markdown",
   "metadata": {},
   "source": [
    "#### 3) A partir do dicionário abaixo, crie uma séries do Pandas:"
   ]
  },
  {
   "cell_type": "code",
   "execution_count": 7,
   "metadata": {},
   "outputs": [
    {
     "data": {
      "text/plain": [
       "1900   -0.08\n",
       "1920   -0.27\n",
       "1940    0.12\n",
       "1960   -0.03\n",
       "1980    0.26\n",
       "2000    0.40\n",
       "2020    1.02\n",
       "dtype: float64"
      ]
     },
     "execution_count": 7,
     "metadata": {},
     "output_type": "execute_result"
    }
   ],
   "source": [
    "dic_temperaturas = {1900: -.08, 1920: -.27, 1940: .12, 1960: -.03, 1980: .26, 2000: .40, 2020: 1.02}\n",
    "\n",
    "pd.Series(dic_temperaturas)\n"
   ]
  },
  {
   "cell_type": "markdown",
   "metadata": {},
   "source": [
    "#### 4) Transforme o ndarray abaixo em um dataframe. \n",
    "O numpy é capaz de gerar arrays n-dimensionais com números pseudo-aleatórios de acordo com uma variedade de distribuições, como no exemplo abaixo. Transforme esse nd-array em um DataFrame."
   ]
  },
  {
   "cell_type": "code",
   "execution_count": 20,
   "metadata": {},
   "outputs": [
    {
     "name": "stdout",
     "output_type": "stream",
     "text": [
      "             0           1           2\n",
      "0    95.701787  104.962538  104.011902\n",
      "1   100.566708  103.123938  106.942052\n",
      "2   103.114340  116.030236  101.996257\n",
      "3    83.434015  101.203345   93.243051\n",
      "4   103.217449  103.987522   98.192281\n",
      "5    89.799066  103.340771   92.919537\n",
      "6    97.331219  105.904963   97.402947\n",
      "7    94.606006   83.326871   99.280965\n",
      "8   118.515900  103.360098  110.903025\n",
      "9   107.962644  101.487665  100.987818\n",
      "10  103.770613   95.092344  119.066576\n",
      "11  105.321365  104.261396   78.395045\n",
      "12  106.745212  102.370412   99.362907\n",
      "13   94.789523  115.291149   91.117124\n",
      "14   95.021802   93.653504  102.337632\n",
      "15  106.895745  101.324324   90.561563\n",
      "16   96.883751   87.922321   92.467574\n",
      "17  104.332119   97.070511   87.501944\n",
      "18   92.973625  111.124512  106.509257\n",
      "19  103.235954   88.330017  103.557438\n"
     ]
    }
   ],
   "source": [
    "arr = np.random.normal(100, 10, (20,3))\n",
    "\n",
    "dataframe_ndarray = pd.DataFrame(arr)\n",
    "print(dataframe_ndarray)"
   ]
  },
  {
   "cell_type": "markdown",
   "metadata": {},
   "source": [
    "#### 5) Nomeie os índices das linhas com inteiros de 1 a 20, e as colunas com os nomes \"x1\", \"x2\", e \"x3\" respectivamente."
   ]
  },
  {
   "cell_type": "code",
   "execution_count": 21,
   "metadata": {},
   "outputs": [
    {
     "name": "stdout",
     "output_type": "stream",
     "text": [
      "            x1          x2          x3\n",
      "1    95.701787  104.962538  104.011902\n",
      "2   100.566708  103.123938  106.942052\n",
      "3   103.114340  116.030236  101.996257\n",
      "4    83.434015  101.203345   93.243051\n",
      "5   103.217449  103.987522   98.192281\n",
      "6    89.799066  103.340771   92.919537\n",
      "7    97.331219  105.904963   97.402947\n",
      "8    94.606006   83.326871   99.280965\n",
      "9   118.515900  103.360098  110.903025\n",
      "10  107.962644  101.487665  100.987818\n",
      "11  103.770613   95.092344  119.066576\n",
      "12  105.321365  104.261396   78.395045\n",
      "13  106.745212  102.370412   99.362907\n",
      "14   94.789523  115.291149   91.117124\n",
      "15   95.021802   93.653504  102.337632\n",
      "16  106.895745  101.324324   90.561563\n",
      "17   96.883751   87.922321   92.467574\n",
      "18  104.332119   97.070511   87.501944\n",
      "19   92.973625  111.124512  106.509257\n",
      "20  103.235954   88.330017  103.557438\n"
     ]
    }
   ],
   "source": [
    "dataframe_ndarray = pd.DataFrame(arr, columns = ['x1', 'x2', 'x3'], index = [1,2,3,4,5,6,7,8,9,10,11,12,13,14,15,16,17,18,19,20])\n",
    "print(dataframe_ndarray)"
   ]
  },
  {
   "cell_type": "markdown",
   "metadata": {},
   "source": [
    "#### 6) No DataFrame do exercício 5, crie uma nova coluna como sendo a média das três colunas, e dê a ela o nome de \"media\" (não recomendo colocar acentos em nomes de variáveis)."
   ]
  },
  {
   "cell_type": "code",
   "execution_count": 23,
   "metadata": {},
   "outputs": [
    {
     "name": "stdout",
     "output_type": "stream",
     "text": [
      "            x1          x2          x3       media\n",
      "1    95.701787  104.962538  104.011902  101.558742\n",
      "2   100.566708  103.123938  106.942052  103.544233\n",
      "3   103.114340  116.030236  101.996257  107.046944\n",
      "4    83.434015  101.203345   93.243051   92.626804\n",
      "5   103.217449  103.987522   98.192281  101.799084\n",
      "6    89.799066  103.340771   92.919537   95.353125\n",
      "7    97.331219  105.904963   97.402947  100.213043\n",
      "8    94.606006   83.326871   99.280965   92.404614\n",
      "9   118.515900  103.360098  110.903025  110.926341\n",
      "10  107.962644  101.487665  100.987818  103.479376\n",
      "11  103.770613   95.092344  119.066576  105.976511\n",
      "12  105.321365  104.261396   78.395045   95.992602\n",
      "13  106.745212  102.370412   99.362907  102.826177\n",
      "14   94.789523  115.291149   91.117124  100.399265\n",
      "15   95.021802   93.653504  102.337632   97.004313\n",
      "16  106.895745  101.324324   90.561563   99.593877\n",
      "17   96.883751   87.922321   92.467574   92.424549\n",
      "18  104.332119   97.070511   87.501944   96.301525\n",
      "19   92.973625  111.124512  106.509257  103.535798\n",
      "20  103.235954   88.330017  103.557438   98.374470\n"
     ]
    }
   ],
   "source": [
    "dataframe_ndarray['media'] = (dataframe_ndarray['x1'] + dataframe_ndarray['x2'] + dataframe_ndarray['x3']) / 3\n",
    "\n",
    "print(dataframe_ndarray)"
   ]
  },
  {
   "cell_type": "markdown",
   "metadata": {},
   "source": [
    "#### 7) No DataFrame do exercício 6, crie uma nova coluna chamada \"log_med\", contendo o logaritmo natural da média calculada no exercício 6 <br>"
   ]
  },
  {
   "cell_type": "code",
   "execution_count": 31,
   "metadata": {},
   "outputs": [
    {
     "name": "stdout",
     "output_type": "stream",
     "text": [
      "            x1          x2          x3       media   log_med\n",
      "1    95.701787  104.962538  104.011902  101.558742  4.620637\n",
      "2   100.566708  103.123938  106.942052  103.544233  4.639999\n",
      "3   103.114340  116.030236  101.996257  107.046944  4.673267\n",
      "4    83.434015  101.203345   93.243051   92.626804  4.528579\n",
      "5   103.217449  103.987522   98.192281  101.799084  4.623001\n",
      "6    89.799066  103.340771   92.919537   95.353125  4.557587\n",
      "7    97.331219  105.904963   97.402947  100.213043  4.607298\n",
      "8    94.606006   83.326871   99.280965   92.404614  4.526177\n",
      "9   118.515900  103.360098  110.903025  110.926341  4.708866\n",
      "10  107.962644  101.487665  100.987818  103.479376  4.639372\n",
      "11  103.770613   95.092344  119.066576  105.976511  4.663217\n",
      "12  105.321365  104.261396   78.395045   95.992602  4.564271\n",
      "13  106.745212  102.370412   99.362907  102.826177  4.633040\n",
      "14   94.789523  115.291149   91.117124  100.399265  4.609155\n",
      "15   95.021802   93.653504  102.337632   97.004313  4.574755\n",
      "16  106.895745  101.324324   90.561563   99.593877  4.601101\n",
      "17   96.883751   87.922321   92.467574   92.424549  4.526393\n",
      "18  104.332119   97.070511   87.501944   96.301525  4.567484\n",
      "19   92.973625  111.124512  106.509257  103.535798  4.639917\n",
      "20  103.235954   88.330017  103.557438   98.374470  4.588781\n"
     ]
    }
   ],
   "source": [
    "# Gerando a coluna contendo o logaritimo natural:\n",
    "dataframe_ndarray['log_med'] = np.log(dataframe_ndarray['media'])\n",
    "\n",
    "# Exibindo o DataFrame completo:\n",
    "print(dataframe_ndarray)"
   ]
  }
 ],
 "metadata": {
  "kernelspec": {
   "display_name": "Python 3 (ipykernel)",
   "language": "python",
   "name": "python3"
  },
  "language_info": {
   "codemirror_mode": {
    "name": "ipython",
    "version": 3
   },
   "file_extension": ".py",
   "mimetype": "text/x-python",
   "name": "python",
   "nbconvert_exporter": "python",
   "pygments_lexer": "ipython3",
   "version": "3.10.9"
  }
 },
 "nbformat": 4,
 "nbformat_minor": 4
}
